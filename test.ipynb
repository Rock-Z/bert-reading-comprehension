{
 "cells": [
  {
   "cell_type": "code",
   "execution_count": 22,
   "metadata": {},
   "outputs": [
    {
     "name": "stdout",
     "output_type": "stream",
     "text": [
      "id: \n",
      " high1.txt\n",
      "passage: \n",
      " My husband is a born shopper. He loves to look at things and to touch them. He likes to compare prices between the same items in different shops. He would never think of buying anything without looking around in several different shops. On the other hand, I'm not a shopper. I think shopping is boring and unpleasant. If I like something and I have enough money to take it, I buy it at once. I never look around for a good price or a better deal. Of course my husband and I never go shopping together. Doing shopping together would be too painful for both of us. When it comes to shopping, we go our different ways.\n",
      "Sometimes I ask my son Jimmy to buy some food in the shop not far from our home. But he is always absent-minded. This was his story.\n",
      "One day I said to him, \" I hope you won't forget what I have told you to buy.\" \" No,\" said Jimmy. \"I won't forget. You want three oranges , six eggs and a pound of meat.\"\n",
      "He went running down the street to the shop. As he ran, he said to himself over and over again, \"three oranges , six eggs and a pound of meat.\"\n",
      "In the beginning he remembered everything but he stopped several times. Once he saw two men fighting outside a clothes shop until a policeman stopped them. One of them was badly hurt. Then he stopped to give ten cents to a beggar. Then he met some of his friends and he played with them for a while. When he reached the shop, he had forgotten everything except six eggs.\n",
      "As he walked home, his face became sadder and sadder. When he saw me he said, \"I'm sorry, Mum. I have forgotten to buy oranges and the meat. I only remembered to buy six eggs, but I've dropped three of them.\"\n",
      "questions: \n",
      " ['The husband likes shopping because   _  .', 'They never go shopping together because  _  .', \"Jimmy can't do the shopping well because   _  .\", \"Jimmy didn't buy what his mother wanted because  _  .\"]\n",
      "options: \n",
      " [['he has much money.', 'he likes the shops.', 'he likes to compare the prices between the same items.', 'he has nothing to do but shopping.'], ['their ways of shopping are quite different', 'they hate each other.', \"they needn't buy anything for the family\", \"they don't have time for it.\"], ['he is young', 'he is absent-minded', 'he often loses his money', \"he doesn't like shopping\"], ['the shop was closed that day', 'the policeman stopped him', 'he forgot some of them', 'he gave all the money to the beggar']]\n",
      "answers: \n",
      " ['C', 'A', 'B', 'C']\n"
     ]
    }
   ],
   "source": [
    "import os\n",
    "from data import read_examples\n",
    "from utils import print_example\n",
    "\n",
    "data_path = './RACE/'\n",
    "train_high, train_middle = read_examples(os.path.join(data_path, 'train'))\n",
    "\n",
    "print_example(train_high, 0)"
   ]
  },
  {
   "cell_type": "code",
   "execution_count": null,
   "metadata": {},
   "outputs": [],
   "source": [
    "from preprocessing import dcmn_preprocess\n",
    "\n",
    "sample_size = 10000\n",
    "sample_data = train_high[:1000]\n",
    "validation_data = train_high[sample_size:sample_size + 100]\n",
    "\n",
    "sample_inputs, sample_answers = dcmn_preprocess(sample_data)\n",
    "valid_inputs, valid_answers = dcmn_preprocess(validation_data)\n",
    "answer_dict = {'A': tf.constant([1, 0, 0, 0]),\n",
    "               'B': tf.constant([0, 1, 0, 0]),\n",
    "               'C': tf.constant([0, 0, 1, 0]),\n",
    "               'D': tf.constant([0, 0, 0, 1])}\n",
    "sample_answers_encoded = tf.convert_to_tensor([answer_dict[a] for a in sample_answers])\n",
    "valid_answers_encoded = tf.convert_to_tensor([answer_dict[a] for a in valid_answers])"
   ]
  }
 ],
 "metadata": {
  "language_info": {
   "name": "python"
  },
  "orig_nbformat": 4
 },
 "nbformat": 4,
 "nbformat_minor": 2
}
